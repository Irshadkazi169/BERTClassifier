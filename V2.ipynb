{
 "cells": [
  {
   "cell_type": "code",
   "execution_count": 2,
   "id": "e108f10d",
   "metadata": {},
   "outputs": [
    {
     "name": "stdout",
     "output_type": "stream",
     "text": [
      "WARNING:tensorflow:From c:\\Users\\LENOVO\\anaconda3\\Lib\\site-packages\\tf_keras\\src\\losses.py:2976: The name tf.losses.sparse_softmax_cross_entropy is deprecated. Please use tf.compat.v1.losses.sparse_softmax_cross_entropy instead.\n",
      "\n"
     ]
    }
   ],
   "source": [
    "import pandas as pd\n",
    "import numpy as np\n",
    "import tensorflow as tf\n",
    "from transformers import BertTokenizer, TFBertForSequenceClassification\n",
    "from sklearn.model_selection import train_test_split\n",
    "from sklearn.metrics import classification_report, confusion_matrix\n",
    "import matplotlib.pyplot as plt\n",
    "import seaborn as sns"
   ]
  },
  {
   "cell_type": "code",
   "execution_count": 3,
   "id": "f477d031",
   "metadata": {},
   "outputs": [
    {
     "name": "stdout",
     "output_type": "stream",
     "text": [
      "Shape: (20491, 2)\n",
      "Columns: ['Review', 'Rating']\n"
     ]
    }
   ],
   "source": [
    "# 2. Load dataset\n",
    "CSV_PATH = 'tripadvisor_hotel_reviews.csv'\n",
    "df2 = pd.read_csv(CSV_PATH)\n",
    "print('Shape:', df2.shape)\n",
    "print('Columns:', df2.columns.tolist())\n",
    "\n",
    "df = df2[0:1000]\n"
   ]
  },
  {
   "cell_type": "code",
   "execution_count": 4,
   "id": "15d64ced",
   "metadata": {},
   "outputs": [],
   "source": [
    "# 3. Basic preprocessing\n",
    "# Try to detect review and rating columns\n",
    "review_col = [c for c in df.columns if 'review' in c.lower() or 'text' in c.lower()][0]\n",
    "rating_col = [c for c in df.columns if 'rating' in c.lower() or 'score' in c.lower()][0]\n",
    "\n",
    "\n",
    "df = df[[review_col, rating_col]].dropna()"
   ]
  },
  {
   "cell_type": "code",
   "execution_count": 5,
   "id": "ae07147c",
   "metadata": {},
   "outputs": [
    {
     "name": "stdout",
     "output_type": "stream",
     "text": [
      "                                                text  label\n",
      "0  nice hotel expensive parking got good deal sta...      1\n",
      "1  ok nothing special charge diamond member hilto...      0\n",
      "3  unique, great stay, wonderful time hotel monac...      1\n",
      "4  great stay great stay, went seahawk game aweso...      1\n",
      "5  love monaco staff husband stayed hotel crazy w...      1\n",
      "\n",
      "Label distribution:\n",
      " label\n",
      "1    645\n",
      "0    218\n",
      "Name: count, dtype: int64\n"
     ]
    }
   ],
   "source": [
    "# Convert ratings to binary sentiment\n",
    "# Positive (>=4) -> 1, Negative (<=2) -> 0, drop neutral\n",
    "\n",
    "\n",
    "df = df[df[rating_col] != 3]\n",
    "df['label'] = df[rating_col].apply(lambda x: 1 if x >= 4 else 0)\n",
    "\n",
    "\n",
    "df = df.rename(columns={review_col: 'text'})[['text', 'label']]\n",
    "print(df.head())\n",
    "print('\\nLabel distribution:\\n', df['label'].value_counts())\n",
    "\n",
    "\n",
    "# %%\n",
    "# 4. Split data\n",
    "train_texts, test_texts, train_labels, test_labels = train_test_split(\n",
    "df['text'].tolist(), df['label'].tolist(), test_size=0.2, random_state=42, stratify=df['label']\n",
    ")"
   ]
  },
  {
   "cell_type": "code",
   "execution_count": 6,
   "id": "618bae47",
   "metadata": {},
   "outputs": [
    {
     "name": "stderr",
     "output_type": "stream",
     "text": [
      "c:\\Users\\LENOVO\\anaconda3\\Lib\\site-packages\\huggingface_hub\\file_download.py:945: FutureWarning: `resume_download` is deprecated and will be removed in version 1.0.0. Downloads always resume when possible. If you want to force a new download, use `force_download=True`.\n",
      "  warnings.warn(\n"
     ]
    }
   ],
   "source": [
    "# 5. Tokenization\n",
    "MODEL_NAME = 'bert-base-uncased'\n",
    "tokenizer = BertTokenizer.from_pretrained(MODEL_NAME)\n",
    "\n",
    "\n",
    "train_encodings = tokenizer(train_texts, truncation=True, padding=True, max_length=128)\n",
    "test_encodings = tokenizer(test_texts, truncation=True, padding=True, max_length=128)\n",
    "\n",
    "\n",
    "# Convert to TensorFlow datasets\n",
    "train_dataset = tf.data.Dataset.from_tensor_slices((\n",
    "dict(train_encodings), train_labels\n",
    ")).batch(16)\n",
    "\n",
    "\n",
    "test_dataset = tf.data.Dataset.from_tensor_slices((\n",
    "dict(test_encodings), test_labels\n",
    ")).batch(16)"
   ]
  },
  {
   "cell_type": "code",
   "execution_count": 7,
   "id": "e337c008",
   "metadata": {},
   "outputs": [
    {
     "name": "stdout",
     "output_type": "stream",
     "text": [
      "WARNING:tensorflow:From c:\\Users\\LENOVO\\anaconda3\\Lib\\site-packages\\tf_keras\\src\\backend.py:873: The name tf.get_default_graph is deprecated. Please use tf.compat.v1.get_default_graph instead.\n",
      "\n"
     ]
    },
    {
     "name": "stderr",
     "output_type": "stream",
     "text": [
      "All PyTorch model weights were used when initializing TFBertForSequenceClassification.\n",
      "\n",
      "Some weights or buffers of the TF 2.0 model TFBertForSequenceClassification were not initialized from the PyTorch model and are newly initialized: ['classifier.weight', 'classifier.bias']\n",
      "You should probably TRAIN this model on a down-stream task to be able to use it for predictions and inference.\n"
     ]
    }
   ],
   "source": [
    "# 6. Build and compile model\n",
    "model = TFBertForSequenceClassification.from_pretrained(MODEL_NAME, num_labels=2)\n",
    "optimizer = tf.keras.optimizers.Adam(learning_rate=2e-5)\n",
    "loss = tf.keras.losses.SparseCategoricalCrossentropy(from_logits=True)\n",
    "metric = tf.keras.metrics.SparseCategoricalAccuracy('accuracy')\n",
    "\n",
    "\n",
    "model.compile(optimizer=optimizer, loss=loss, metrics=[metric])"
   ]
  },
  {
   "cell_type": "code",
   "execution_count": 8,
   "id": "00227fe2",
   "metadata": {},
   "outputs": [
    {
     "name": "stdout",
     "output_type": "stream",
     "text": [
      "Epoch 1/2\n",
      "WARNING:tensorflow:From c:\\Users\\LENOVO\\anaconda3\\Lib\\site-packages\\tf_keras\\src\\utils\\tf_utils.py:492: The name tf.ragged.RaggedTensorValue is deprecated. Please use tf.compat.v1.ragged.RaggedTensorValue instead.\n",
      "\n",
      "44/44 [==============================] - 596s 13s/step - loss: 0.5110 - accuracy: 0.7565 - val_loss: 0.2745 - val_accuracy: 0.9133\n",
      "Epoch 2/2\n",
      "44/44 [==============================] - 474s 11s/step - loss: 0.2190 - accuracy: 0.9188 - val_loss: 0.1829 - val_accuracy: 0.9306\n"
     ]
    }
   ],
   "source": [
    "# 7. Train model\n",
    "history = model.fit(train_dataset, validation_data=test_dataset, epochs=2)"
   ]
  },
  {
   "cell_type": "code",
   "execution_count": 9,
   "id": "51218589",
   "metadata": {},
   "outputs": [
    {
     "name": "stdout",
     "output_type": "stream",
     "text": [
      "11/11 [==============================] - 43s 3s/step\n",
      "\n",
      "Classification Report:\n",
      "               precision    recall  f1-score   support\n",
      "\n",
      "           0       0.80      0.98      0.88        44\n",
      "           1       0.99      0.91      0.95       129\n",
      "\n",
      "    accuracy                           0.93       173\n",
      "   macro avg       0.89      0.95      0.91       173\n",
      "weighted avg       0.94      0.93      0.93       173\n",
      "\n"
     ]
    },
    {
     "data": {
      "image/png": "[encoded data removed]",
      "text/plain": [
       "<Figure size 640x480 with 2 Axes>"
      ]
     },
     "metadata": {},
     "output_type": "display_data"
    }
   ],
   "source": [
    "preds = model.predict(test_dataset).logits\n",
    "pred_labels = np.argmax(preds, axis=1)\n",
    "\n",
    "\n",
    "print(\"\\nClassification Report:\\n\", classification_report(test_labels, pred_labels))\n",
    "\n",
    "\n",
    "cm = confusion_matrix(test_labels, pred_labels)\n",
    "sns.heatmap(cm, annot=True, fmt='d', cmap='Blues')\n",
    "plt.xlabel('Predicted')\n",
    "plt.ylabel('Actual')\n",
    "plt.title('Confusion Matrix')\n",
    "plt.show()"
   ]
  },
  {
   "cell_type": "code",
   "execution_count": 13,
   "id": "95e9c41a",
   "metadata": {},
   "outputs": [],
   "source": [
    "history_dict = history.history"
   ]
  },
  {
   "cell_type": "code",
   "execution_count": null,
   "id": "19491144",
   "metadata": {},
   "outputs": [
    {
     "data": {
      "text/plain": [
       "{'loss': [0.5110172033309937, 0.21900351345539093],\n",
       " 'accuracy': [0.7565217614173889, 0.9188405871391296],\n",
       " 'val_loss': [0.27454042434692383, 0.18288512527942657],\n",
       " 'val_accuracy': [0.913294792175293, 0.9306358098983765]}"
      ]
     },
     "execution_count": 11,
     "metadata": {},
     "output_type": "execute_result"
    }
   ],
   "source": []
  },
  {
   "cell_type": "code",
   "execution_count": null,
   "id": "91b9f861",
   "metadata": {},
   "outputs": [],
   "source": []
  }
 ],
 "metadata": {
  "kernelspec": {
   "display_name": "base",
   "language": "python",
   "name": "python3"
  },
  "language_info": {
   "codemirror_mode": {
    "name": "ipython",
    "version": 3
   },
   "file_extension": ".py",
   "mimetype": "text/x-python",
   "name": "python",
   "nbconvert_exporter": "python",
   "pygments_lexer": "ipython3",
   "version": "3.12.7"
  }
 },
 "nbformat": 4,
 "nbformat_minor": 5
}
